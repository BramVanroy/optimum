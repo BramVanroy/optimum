{
 "cells": [
  {
   "cell_type": "markdown",
   "metadata": {},
   "source": [
    "## Text-classification\n",
    "\n",
    "[REF](https://github.com/pytorch/ort/blob/3c14f36cdacb15ed0de7ba8559e827e5004c7b1f/torch_ort_inference/torch_ort/ortinferencemodule/ortinferencemodule.py#L109)\n",
    "```python\n",
    "self._device = _utils_infer.get_device_from_module(module)\n",
    "\n",
    "\n",
    "run_options = C.RunOptions()\n",
    "\n",
    "# Pre-process inputs to make them compatible with onnxruntime\n",
    "onnx_input_names = [inp.name for inp in self._onnx_models.exported_model.graph.input]\n",
    "inputs = _utils_infer.get_user_inputs(onnx_input_names, self._flattened_module._input_info, inputs, kwargs, self._device)\n",
    "\n",
    "io_binding = self._inference_session.io_binding()\n",
    "_utils._create_iobinding(io_binding, inputs, self._onnx_models.exported_model, self._device)\n",
    "\n",
    "# Run inference session\n",
    "self._inference_session.run_with_iobinding(io_binding, run_options)\n",
    "\n",
    "# Post-process outputs to make them compatible with pytorch\n",
    "forward_outputs = io_binding._iobinding.get_outputs()\n",
    "\n",
    "user_outputs = _utils._ortvalues_to_torch_tensor(forward_outputs, self._device)\n",
    "return _io.unflatten_user_output(self._module_output_schema, user_outputs)\n",
    "```"
   ]
  },
  {
   "cell_type": "markdown",
   "metadata": {},
   "source": [
    "## new utils\n",
    "\n",
    "_need onnxruntime-training_"
   ]
  },
  {
   "cell_type": "code",
   "execution_count": null,
   "metadata": {},
   "outputs": [],
   "source": [
    "!pip install onnxruntime onnxruntime-training"
   ]
  },
  {
   "cell_type": "code",
   "execution_count": 1,
   "metadata": {},
   "outputs": [],
   "source": [
    "import torch\n",
    "from onnxruntime.capi.onnxruntime_inference_collection import OrtValue\n",
    "from distutils.version import LooseVersion\n",
    "from torch.utils.dlpack import to_dlpack\n",
    "from onnxruntime.capi import _pybind_state as C # needs onnxruntime-training \n",
    "from torch._C import _from_dlpack\n",
    "\n",
    "def _ortvalue_from_torch_tensor(torch_tensor):\n",
    "    # TODO: Current DLPack doesn't support bool and PyTorch disables converting bool tensor to DLPack in recent commit.\n",
    "    # https://github.com/pytorch/pytorch/blob/7e7be526c9d9179f35084e9cca5b5c5ad5172100/aten/src/ATen/DLConvertor.cpp#L41\n",
    "    # We need to convert bool tensor to unit8 tensor to workaround this.\n",
    "    # DLPack is discussing how to support bool type, we can remove this workaround once both DLPack\n",
    "    # and PyTorch support bool type.\n",
    "    is_bool_tensor = torch_tensor.dtype == torch.bool\n",
    "    if is_bool_tensor and LooseVersion(torch.__version__) >= LooseVersion(\"1.10.0\"):\n",
    "        torch_tensor = torch_tensor.to(torch.uint8)\n",
    "    # print(torch_tensor.device)\n",
    "    if torch_tensor.device.type == \"ort\":\n",
    "        return C.aten_ort_tensor_to_ort_value(torch_tensor)\n",
    "    return C.OrtValue.from_dlpack(to_dlpack(torch_tensor), is_bool_tensor)\n",
    "\n",
    "def _ortvalues_to_torch_tensor(ortvalues, device):\n",
    "    if len(ortvalues) == 0:\n",
    "        return []\n",
    "\n",
    "    if \"ort\" == device.type:\n",
    "        if not hasattr(C, \"to_aten_ort_device_tensor\"):\n",
    "            raise AttributeError(\"onnxruntime is missing to_aten_ort_device_tensor needed to support device == 'ort'.\")\n",
    "        return [C.to_aten_ort_device_tensor(ov) for ov in ortvalues]\n",
    "\n",
    "    if not isinstance(ortvalues, C.OrtValueVector):\n",
    "        raise TypeError(\"ortvalues must be an instance of OrtValueVector not %r.\" % type(ortvalues))\n",
    "\n",
    "    res = ortvalues.to_dlpacks(_from_dlpack)\n",
    "    bool_indices = ortvalues.bool_tensor_indices()\n",
    "    if len(bool_indices):\n",
    "        # DLPack structure does not know for sure if it stores boolean\n",
    "        # or uint8. Method to_dlpacks cannot be used in that case.\n",
    "        # Signature of *dl_packs* is `to_dlpacks(dlp, fct) -> list[torch.Tensor]`.\n",
    "        # And fct is a function with signature `fct(dlp) -> torch.Tensor`.\n",
    "        # Boolean tensors are converted into uint8 tensor with the DLPack protocol.\n",
    "        # Therefore, the function `fct` does not know if the dlpack structure\n",
    "        # is a boolean tensor or a uint8 tensor.\n",
    "        # We could either consider another function as an input in\n",
    "        # `to_dlpacks` or add an argument to `fct(dlp, ortvalue)`.\n",
    "        # Second option makes it impossible to directly use `_from_dlpack` or\n",
    "        # or `from_dlpack` from torch.\n",
    "        # The best option would be to add boolean type in DLDataTypeCode.\n",
    "        for i in range(0, len(bool_indices)):\n",
    "            j = bool_indices[i]\n",
    "            res[j] = res[j].to(torch.bool)\n",
    "\n",
    "    return res\n",
    "\n",
    "def get_device_index(device):\n",
    "    if isinstance(device, str):\n",
    "        # could be 'cuda:0', 'cuda:1', or 'cpu'. with cpu, set index=0\n",
    "        device = torch.device(device)\n",
    "    elif isinstance(device, int):\n",
    "        return device\n",
    "    return 0 if device.index is None else device.index\n"
   ]
  },
  {
   "cell_type": "markdown",
   "metadata": {},
   "source": [
    "## manual test"
   ]
  },
  {
   "cell_type": "code",
   "execution_count": 138,
   "metadata": {},
   "outputs": [
    {
     "data": {
      "application/vnd.jupyter.widget-view+json": {
       "model_id": "92489685cc75417b9b7e8ad378f57fda",
       "version_major": 2,
       "version_minor": 0
      },
      "text/plain": [
       "Downloading:   0%|          | 0.00/710 [00:00<?, ?B/s]"
      ]
     },
     "metadata": {},
     "output_type": "display_data"
    },
    {
     "data": {
      "application/vnd.jupyter.widget-view+json": {
       "model_id": "4a6277741e6b4c39afe72ccaf679b310",
       "version_major": 2,
       "version_minor": 0
      },
      "text/plain": [
       "Downloading:   0%|          | 0.00/268M [00:00<?, ?B/s]"
      ]
     },
     "metadata": {},
     "output_type": "display_data"
    },
    {
     "data": {
      "text/plain": [
       "[tensor([[ 3.8724, -3.1543]])]"
      ]
     },
     "execution_count": 138,
     "metadata": {},
     "output_type": "execute_result"
    }
   ],
   "source": [
    "from optimum.onnxruntime import ORTModelForSequenceClassification\n",
    "from transformers import AutoTokenizer\n",
    "\n",
    "model = ORTModelForSequenceClassification.from_pretrained(\"optimum/distilbert-base-uncased-finetuned-sst-2-english\")\n",
    "tokenizer = AutoTokenizer.from_pretrained(\"optimum/distilbert-base-uncased-finetuned-sst-2-english\")\n",
    "\n",
    "payload = \"I hate you\"\n",
    "\n",
    "d = tokenizer(payload, return_tensors=\"pt\")\n",
    "\n",
    "io_binding = model.model.io_binding()\n",
    "# inputs\n",
    "for key,val in d.items():\n",
    "  io_binding.bind_ortvalue_input(key, OrtValue(_ortvalue_from_torch_tensor(val)))\n",
    "# outputs\n",
    "for name in list(model.model_outputs.keys()):\n",
    "    io_binding.bind_output(name, model.device.type, device_id=get_device_index(model.device))\n",
    "model.model.run_with_iobinding(io_binding)\n",
    "# Copy output contents to CPU (if on another device). No-op if already on the CPU.\n",
    "# Y = io_binding.copy_outputs_to_cpu()[0]\n",
    "raw_outputs= io_binding._iobinding.get_outputs()\n",
    "outputs = _ortvalues_to_torch_tensor(raw_outputs, model.device)\n",
    "outputs"
   ]
  },
  {
   "cell_type": "code",
   "execution_count": 140,
   "metadata": {},
   "outputs": [
    {
     "data": {
      "text/plain": [
       "[tensor([[-3.7966,  4.0482]])]"
      ]
     },
     "execution_count": 140,
     "metadata": {},
     "output_type": "execute_result"
    }
   ],
   "source": [
    "payload = \"I hate you. I hate you. But i like you\"\n",
    "\n",
    "d = tokenizer(payload, return_tensors=\"pt\")\n",
    "\n",
    "io_binding = model.model.io_binding()\n",
    "# inputs\n",
    "for key,val in d.items():\n",
    "  io_binding.bind_ortvalue_input(key, OrtValue(_ortvalue_from_torch_tensor(val)))\n",
    "# outputs\n",
    "for name in list(model.model_outputs.keys()):\n",
    "    io_binding.bind_output(name, model.device.type, device_id=get_device_index(model.device))\n",
    "model.model.run_with_iobinding(io_binding)\n",
    "# Copy output contents to CPU (if on another device). No-op if already on the CPU.\n",
    "# Y = io_binding.copy_outputs_to_cpu()[0]\n",
    "raw_outputs= io_binding._iobinding.get_outputs()\n",
    "outputs = _ortvalues_to_torch_tensor(raw_outputs, model.device)\n",
    "outputs"
   ]
  },
  {
   "cell_type": "markdown",
   "metadata": {},
   "source": [
    "## Model test"
   ]
  },
  {
   "cell_type": "code",
   "execution_count": 17,
   "metadata": {},
   "outputs": [],
   "source": [
    "from typing import Optional\n",
    "from optimum.onnxruntime import ORTModelForSequenceClassification\n",
    "from transformers.modeling_outputs import (\n",
    "    SequenceClassifierOutput,\n",
    ")\n",
    "\n",
    "class IOBindingModel(ORTModelForSequenceClassification):\n",
    "  def __init__(self, model=None, config=None, **kwargs):\n",
    "    super().__init__(model, config, **kwargs)\n",
    "    # create {name:idx} dict for model outputs\n",
    "    self.model_outputs = {output_key.name: idx for idx, output_key in enumerate(self.model.get_outputs())}\n",
    "    self.model_inputs = {output_key.name: idx for idx, output_key in enumerate(self.model.get_inputs())}\n",
    "    self.model_input_names = list(self.model_inputs.keys())\n",
    "    self.model_output_names = list(self.model_outputs.keys())\n",
    "    self.run_options = C.RunOptions()\n",
    "    \n",
    "  def forward(\n",
    "        self,\n",
    "        input_ids: Optional[torch.Tensor] = None,\n",
    "        attention_mask: Optional[torch.Tensor] = None,\n",
    "        token_type_ids: Optional[torch.Tensor] = None,\n",
    "        **kwargs,\n",
    "    ):\n",
    "        self.io_binding = self.model.io_binding()\n",
    "\n",
    "        # add input io binding\n",
    "        self.io_binding.bind_ortvalue_input(\"input_ids\", OrtValue(_ortvalue_from_torch_tensor(input_ids)))\n",
    "        self.io_binding.bind_ortvalue_input(\"attention_mask\", OrtValue(_ortvalue_from_torch_tensor(attention_mask)))\n",
    "        if token_type_ids is not None:\n",
    "          self.io_binding.bind_ortvalue_input(\"token_type_ids\", OrtValue(_ortvalue_from_torch_tensor(token_type_ids)))\n",
    "\n",
    "        # add output io binding\n",
    "        for name in list(model.model_outputs.keys()):\n",
    "          self.io_binding.bind_output(name, self.device.type, device_id=get_device_index(self.device))\n",
    "        \n",
    "        # run inference with binding\n",
    "        model.model.run_with_iobinding(self.io_binding,self.run_options)\n",
    "        # Copy output contents to CPU (if on another device). No-op if already on the CPU.\n",
    "        # Y = io_binding.copy_outputs_to_cpu()[0]\n",
    "        raw_outputs= self.io_binding._iobinding.get_outputs()\n",
    "        outputs = _ortvalues_to_torch_tensor(raw_outputs, model.device)        \n",
    "        return SequenceClassifierOutput(logits=outputs[0])\n"
   ]
  },
  {
   "cell_type": "markdown",
   "metadata": {},
   "source": [
    "## test"
   ]
  },
  {
   "cell_type": "code",
   "execution_count": 3,
   "metadata": {},
   "outputs": [
    {
     "data": {
      "application/vnd.jupyter.widget-view+json": {
       "model_id": "eab970c817a542e2b8a00d0ebc4ee7dd",
       "version_major": 2,
       "version_minor": 0
      },
      "text/plain": [
       "Downloading:   0%|          | 0.00/710 [00:00<?, ?B/s]"
      ]
     },
     "metadata": {},
     "output_type": "display_data"
    },
    {
     "data": {
      "application/vnd.jupyter.widget-view+json": {
       "model_id": "38a54b50f8374261b18a196caceea842",
       "version_major": 2,
       "version_minor": 0
      },
      "text/plain": [
       "Downloading:   0%|          | 0.00/268M [00:00<?, ?B/s]"
      ]
     },
     "metadata": {},
     "output_type": "display_data"
    },
    {
     "data": {
      "text/plain": [
       "{'input_ids': tensor([[ 101, 1045, 5223, 2017,  102]]), 'attention_mask': tensor([[1, 1, 1, 1, 1]])}"
      ]
     },
     "execution_count": 3,
     "metadata": {},
     "output_type": "execute_result"
    }
   ],
   "source": [
    "from optimum.onnxruntime import ORTModelForSequenceClassification\n",
    "from transformers import AutoTokenizer\n",
    "\n",
    "model = ORTModelForSequenceClassification.from_pretrained(\"optimum/distilbert-base-uncased-finetuned-sst-2-english\")\n",
    "tokenizer = AutoTokenizer.from_pretrained(\"optimum/distilbert-base-uncased-finetuned-sst-2-english\")\n",
    "\n",
    "payload = \"I hate you\"\n",
    "\n",
    "d = tokenizer(payload, return_tensors=\"pt\")\n",
    "d"
   ]
  },
  {
   "cell_type": "code",
   "execution_count": 18,
   "metadata": {},
   "outputs": [
    {
     "data": {
      "application/vnd.jupyter.widget-view+json": {
       "model_id": "011d0ad61bc74dd5be08e630c2468191",
       "version_major": 2,
       "version_minor": 0
      },
      "text/plain": [
       "Downloading:   0%|          | 0.00/710 [00:00<?, ?B/s]"
      ]
     },
     "metadata": {},
     "output_type": "display_data"
    },
    {
     "data": {
      "application/vnd.jupyter.widget-view+json": {
       "model_id": "ae328cc2ec4145b2ab16c7e59c7d5701",
       "version_major": 2,
       "version_minor": 0
      },
      "text/plain": [
       "Downloading:   0%|          | 0.00/268M [00:00<?, ?B/s]"
      ]
     },
     "metadata": {},
     "output_type": "display_data"
    },
    {
     "data": {
      "text/plain": [
       "device(type='cpu')"
      ]
     },
     "execution_count": 18,
     "metadata": {},
     "output_type": "execute_result"
    }
   ],
   "source": [
    "io_model = IOBindingModel.from_pretrained(\"optimum/distilbert-base-uncased-finetuned-sst-2-english\")\n",
    "io_model.device"
   ]
  },
  {
   "cell_type": "code",
   "execution_count": 23,
   "metadata": {},
   "outputs": [
    {
     "data": {
      "text/plain": [
       "{'input_ids': tensor([[ 101, 1045, 5223, 2017, 1012,  102]]), 'attention_mask': tensor([[1, 1, 1, 1, 1, 1]])}"
      ]
     },
     "execution_count": 23,
     "metadata": {},
     "output_type": "execute_result"
    }
   ],
   "source": [
    "# payload = \"I hate you.\"\n",
    "palyoad = \"I love you so much. It is incredible what a good person you are. I love you so much. It is incredible what a good person you are.\"\n",
    "\n",
    "d = tokenizer(payload, return_tensors=\"pt\")\n",
    "d"
   ]
  },
  {
   "cell_type": "code",
   "execution_count": 24,
   "metadata": {},
   "outputs": [
    {
     "name": "stdout",
     "output_type": "stream",
     "text": [
      "18.2 ms ± 153 µs per loop (mean ± std. dev. of 7 runs, 10 loops each)\n"
     ]
    }
   ],
   "source": [
    "%timeit io_model(**d)"
   ]
  },
  {
   "cell_type": "code",
   "execution_count": 25,
   "metadata": {},
   "outputs": [
    {
     "name": "stdout",
     "output_type": "stream",
     "text": [
      "19.4 ms ± 2.34 ms per loop (mean ± std. dev. of 7 runs, 10 loops each)\n"
     ]
    }
   ],
   "source": [
    "%timeit model(**d)"
   ]
  },
  {
   "cell_type": "code",
   "execution_count": 28,
   "metadata": {},
   "outputs": [
    {
     "name": "stdout",
     "output_type": "stream",
     "text": [
      "tensor([[ 3.9981, -3.2588]])\n",
      "tensor([[ 3.9981, -3.2588]])\n"
     ]
    }
   ],
   "source": [
    "io = io_model(**d)\n",
    "van = model(**d)\n",
    "print(io.logits)\n",
    "print(van.logits)"
   ]
  },
  {
   "cell_type": "markdown",
   "metadata": {},
   "source": [
    "## Benchmark"
   ]
  },
  {
   "cell_type": "code",
   "execution_count": 29,
   "metadata": {},
   "outputs": [],
   "source": [
    "from time import perf_counter\n",
    "import numpy as np\n",
    "\n",
    "def benchmark(seq_len,model,tokenizer):\n",
    "    # prepare date\n",
    "    seq_len = \"l \" * (seq_len - 2)\n",
    "    payload = tokenizer(seq_len, return_tensors=\"pt\")\n",
    "    latencies = []\n",
    "    # warm up\n",
    "    for _ in range(10):\n",
    "        _ = model(**payload)\n",
    "    # Timed run\n",
    "    for _ in range(100):\n",
    "        start_time = perf_counter()\n",
    "        _ =  model(**payload)\n",
    "        latency = perf_counter() - start_time\n",
    "        latencies.append(latency)\n",
    "    # Compute run statistics\n",
    "    time_avg_ms = 1000 * np.mean(latencies)\n",
    "    time_p95_ms = 1000 * np.percentile(latencies,95)\n",
    "    return {\"seq_len\":payload[\"input_ids\"].shape[1],\"time_avg_ms\":time_avg_ms,\"time_p95_ms\":time_p95_ms}\n",
    "\n"
   ]
  },
  {
   "cell_type": "markdown",
   "metadata": {},
   "source": [
    "## CPU"
   ]
  },
  {
   "cell_type": "code",
   "execution_count": null,
   "metadata": {},
   "outputs": [],
   "source": [
    "import pandas as pd\n",
    "\n",
    "seq_lengths=[8,16,32,64,128,256,512]\n",
    "res =[]\n",
    "for seq_len in seq_lengths:\n",
    "    io = benchmark(seq_len,io_model,tokenizer)\n",
    "    res.append({**io,\"model\":\"io\"})\n",
    "    \n",
    "    vanilla = benchmark(seq_len,model,tokenizer)\n",
    "    res.append({**vanilla,\"model\":\"vanilla\"})    "
   ]
  },
  {
   "cell_type": "code",
   "execution_count": 31,
   "metadata": {},
   "outputs": [
    {
     "data": {
      "text/html": [
       "<div>\n",
       "<style scoped>\n",
       "    .dataframe tbody tr th:only-of-type {\n",
       "        vertical-align: middle;\n",
       "    }\n",
       "\n",
       "    .dataframe tbody tr th {\n",
       "        vertical-align: top;\n",
       "    }\n",
       "\n",
       "    .dataframe thead th {\n",
       "        text-align: right;\n",
       "    }\n",
       "</style>\n",
       "<table border=\"1\" class=\"dataframe\">\n",
       "  <thead>\n",
       "    <tr style=\"text-align: right;\">\n",
       "      <th></th>\n",
       "      <th>seq_len</th>\n",
       "      <th>model</th>\n",
       "      <th>time_avg_ms</th>\n",
       "      <th>time_p95_ms</th>\n",
       "    </tr>\n",
       "  </thead>\n",
       "  <tbody>\n",
       "    <tr>\n",
       "      <th>0</th>\n",
       "      <td>8</td>\n",
       "      <td>io</td>\n",
       "      <td>21.845188</td>\n",
       "      <td>31.285430</td>\n",
       "    </tr>\n",
       "    <tr>\n",
       "      <th>1</th>\n",
       "      <td>8</td>\n",
       "      <td>vanilla</td>\n",
       "      <td>19.478945</td>\n",
       "      <td>25.687145</td>\n",
       "    </tr>\n",
       "    <tr>\n",
       "      <th>2</th>\n",
       "      <td>16</td>\n",
       "      <td>io</td>\n",
       "      <td>21.550402</td>\n",
       "      <td>22.859014</td>\n",
       "    </tr>\n",
       "    <tr>\n",
       "      <th>3</th>\n",
       "      <td>16</td>\n",
       "      <td>vanilla</td>\n",
       "      <td>21.397938</td>\n",
       "      <td>21.801143</td>\n",
       "    </tr>\n",
       "    <tr>\n",
       "      <th>4</th>\n",
       "      <td>32</td>\n",
       "      <td>io</td>\n",
       "      <td>27.146151</td>\n",
       "      <td>28.067425</td>\n",
       "    </tr>\n",
       "    <tr>\n",
       "      <th>5</th>\n",
       "      <td>32</td>\n",
       "      <td>vanilla</td>\n",
       "      <td>27.092843</td>\n",
       "      <td>28.878892</td>\n",
       "    </tr>\n",
       "    <tr>\n",
       "      <th>6</th>\n",
       "      <td>64</td>\n",
       "      <td>io</td>\n",
       "      <td>37.805838</td>\n",
       "      <td>38.701186</td>\n",
       "    </tr>\n",
       "    <tr>\n",
       "      <th>7</th>\n",
       "      <td>64</td>\n",
       "      <td>vanilla</td>\n",
       "      <td>37.629447</td>\n",
       "      <td>38.756979</td>\n",
       "    </tr>\n",
       "    <tr>\n",
       "      <th>8</th>\n",
       "      <td>128</td>\n",
       "      <td>io</td>\n",
       "      <td>61.262763</td>\n",
       "      <td>62.647250</td>\n",
       "    </tr>\n",
       "    <tr>\n",
       "      <th>9</th>\n",
       "      <td>128</td>\n",
       "      <td>vanilla</td>\n",
       "      <td>61.089302</td>\n",
       "      <td>62.189090</td>\n",
       "    </tr>\n",
       "    <tr>\n",
       "      <th>10</th>\n",
       "      <td>256</td>\n",
       "      <td>io</td>\n",
       "      <td>120.672068</td>\n",
       "      <td>124.155692</td>\n",
       "    </tr>\n",
       "    <tr>\n",
       "      <th>11</th>\n",
       "      <td>256</td>\n",
       "      <td>vanilla</td>\n",
       "      <td>120.531309</td>\n",
       "      <td>123.187750</td>\n",
       "    </tr>\n",
       "    <tr>\n",
       "      <th>12</th>\n",
       "      <td>512</td>\n",
       "      <td>io</td>\n",
       "      <td>268.554570</td>\n",
       "      <td>272.223254</td>\n",
       "    </tr>\n",
       "    <tr>\n",
       "      <th>13</th>\n",
       "      <td>512</td>\n",
       "      <td>vanilla</td>\n",
       "      <td>268.906273</td>\n",
       "      <td>273.780362</td>\n",
       "    </tr>\n",
       "  </tbody>\n",
       "</table>\n",
       "</div>"
      ],
      "text/plain": [
       "    seq_len    model  time_avg_ms  time_p95_ms\n",
       "0         8       io    21.845188    31.285430\n",
       "1         8  vanilla    19.478945    25.687145\n",
       "2        16       io    21.550402    22.859014\n",
       "3        16  vanilla    21.397938    21.801143\n",
       "4        32       io    27.146151    28.067425\n",
       "5        32  vanilla    27.092843    28.878892\n",
       "6        64       io    37.805838    38.701186\n",
       "7        64  vanilla    37.629447    38.756979\n",
       "8       128       io    61.262763    62.647250\n",
       "9       128  vanilla    61.089302    62.189090\n",
       "10      256       io   120.672068   124.155692\n",
       "11      256  vanilla   120.531309   123.187750\n",
       "12      512       io   268.554570   272.223254\n",
       "13      512  vanilla   268.906273   273.780362"
      ]
     },
     "execution_count": 31,
     "metadata": {},
     "output_type": "execute_result"
    }
   ],
   "source": [
    "df = pd.DataFrame(res)\n",
    "\n",
    "df[[\"seq_len\",\"model\",\"time_avg_ms\",\"time_p95_ms\"]].groupby([\"seq_len\",\"model\"]).head()"
   ]
  },
  {
   "cell_type": "code",
   "execution_count": 32,
   "metadata": {},
   "outputs": [
    {
     "data": {
      "image/png": "[encoded data removed]",
      "text/plain": [
       "<Figure size 432x288 with 1 Axes>"
      ]
     },
     "metadata": {
      "needs_background": "light"
     },
     "output_type": "display_data"
    }
   ],
   "source": [
    "chart_df = pd.merge(df[df.model == 'io'][[\"seq_len\",\"time_p95_ms\"]], df[df.model == 'vanilla'][[\"seq_len\",\"time_p95_ms\"]], on='seq_len')\n",
    "chart_df = chart_df.rename(columns={\"time_p95_ms_x\": \"io_95\", \"time_p95_ms_y\": \"vanilla_p95\"})\n",
    "plt = chart_df.plot(x=\"seq_len\",y=[\"io_95\",\"vanilla_p95\"],kind=\"line\")\n",
    "plt.figure.savefig('cpu_res.png', dpi=300)\n"
   ]
  },
  {
   "cell_type": "code",
   "execution_count": 33,
   "metadata": {},
   "outputs": [
    {
     "name": "stdout",
     "output_type": "stream",
     "text": [
      "huggingface/tokenizers: The current process just got forked, after parallelism has already been used. Disabling parallelism to avoid deadlocks...\n",
      "To disable this warning, you can either:\n",
      "\t- Avoid using `tokenizers` before the fork if possible\n",
      "\t- Explicitly set the environment variable TOKENIZERS_PARALLELISM=(true | false)\n",
      "/bin/bash: -c: line 1: syntax error near unexpected token `cpu_res.png'\n",
      "/bin/bash: -c: line 1: `[cpu_res.png](cpu_res.png)'\n"
     ]
    }
   ],
   "source": [
    "![cpu_res.png](cpu_res.png)"
   ]
  },
  {
   "cell_type": "code",
   "execution_count": null,
   "metadata": {},
   "outputs": [],
   "source": []
  }
 ],
 "metadata": {
  "interpreter": {
   "hash": "7a2c4b191d1ae843dde5cb5f4d1f62fa892f6b79b0f9392a84691e890e33c5a4"
  },
  "kernelspec": {
   "display_name": "Python 3.9.12 ('base')",
   "language": "python",
   "name": "python3"
  },
  "language_info": {
   "codemirror_mode": {
    "name": "ipython",
    "version": 3
   },
   "file_extension": ".py",
   "mimetype": "text/x-python",
   "name": "python",
   "nbconvert_exporter": "python",
   "pygments_lexer": "ipython3",
   "version": "3.9.12"
  },
  "orig_nbformat": 4
 },
 "nbformat": 4,
 "nbformat_minor": 2
}
